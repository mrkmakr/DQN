{
 "cells": [
  {
   "cell_type": "code",
   "execution_count": 3,
   "metadata": {},
   "outputs": [
    {
     "name": "stderr",
     "output_type": "stream",
     "text": [
      "/Users/admin/.pyenv/versions/anaconda3-5.1.0/lib/python3.6/site-packages/h5py/__init__.py:36: FutureWarning: Conversion of the second argument of issubdtype from `float` to `np.floating` is deprecated. In future, it will be treated as `np.float64 == np.dtype(float).type`.\n",
      "  from ._conv import register_converters as _register_converters\n"
     ]
    },
    {
     "name": "stdout",
     "output_type": "stream",
     "text": [
      "observation space: Box(210, 160, 3)\n",
      "action space: Discrete(6)\n",
      "initial observation: [[[ 0  0  0]\n",
      "  [ 0  0  0]\n",
      "  [ 0  0  0]\n",
      "  ...\n",
      "  [ 0  0  0]\n",
      "  [ 0  0  0]\n",
      "  [ 0  0  0]]\n",
      "\n",
      " [[ 0  0  0]\n",
      "  [ 0  0  0]\n",
      "  [ 0  0  0]\n",
      "  ...\n",
      "  [ 0  0  0]\n",
      "  [ 0  0  0]\n",
      "  [ 0  0  0]]\n",
      "\n",
      " [[ 0  0  0]\n",
      "  [ 0  0  0]\n",
      "  [ 0  0  0]\n",
      "  ...\n",
      "  [ 0  0  0]\n",
      "  [ 0  0  0]\n",
      "  [ 0  0  0]]\n",
      "\n",
      " ...\n",
      "\n",
      " [[80 89 22]\n",
      "  [80 89 22]\n",
      "  [80 89 22]\n",
      "  ...\n",
      "  [80 89 22]\n",
      "  [80 89 22]\n",
      "  [80 89 22]]\n",
      "\n",
      " [[80 89 22]\n",
      "  [80 89 22]\n",
      "  [80 89 22]\n",
      "  ...\n",
      "  [80 89 22]\n",
      "  [80 89 22]\n",
      "  [80 89 22]]\n",
      "\n",
      " [[80 89 22]\n",
      "  [80 89 22]\n",
      "  [80 89 22]\n",
      "  ...\n",
      "  [80 89 22]\n",
      "  [80 89 22]\n",
      "  [80 89 22]]]\n",
      "next observation: [[[ 0  0  0]\n",
      "  [ 0  0  0]\n",
      "  [ 0  0  0]\n",
      "  ...\n",
      "  [ 0  0  0]\n",
      "  [ 0  0  0]\n",
      "  [ 0  0  0]]\n",
      "\n",
      " [[ 0  0  0]\n",
      "  [ 0  0  0]\n",
      "  [ 0  0  0]\n",
      "  ...\n",
      "  [ 0  0  0]\n",
      "  [ 0  0  0]\n",
      "  [ 0  0  0]]\n",
      "\n",
      " [[ 0  0  0]\n",
      "  [ 0  0  0]\n",
      "  [ 0  0  0]\n",
      "  ...\n",
      "  [ 0  0  0]\n",
      "  [ 0  0  0]\n",
      "  [ 0  0  0]]\n",
      "\n",
      " ...\n",
      "\n",
      " [[80 89 22]\n",
      "  [80 89 22]\n",
      "  [80 89 22]\n",
      "  ...\n",
      "  [80 89 22]\n",
      "  [80 89 22]\n",
      "  [80 89 22]]\n",
      "\n",
      " [[80 89 22]\n",
      "  [80 89 22]\n",
      "  [80 89 22]\n",
      "  ...\n",
      "  [80 89 22]\n",
      "  [80 89 22]\n",
      "  [80 89 22]]\n",
      "\n",
      " [[80 89 22]\n",
      "  [80 89 22]\n",
      "  [80 89 22]\n",
      "  ...\n",
      "  [80 89 22]\n",
      "  [80 89 22]\n",
      "  [80 89 22]]]\n",
      "reward: 0.0\n",
      "done: False\n",
      "info: {'ale.lives': 3}\n"
     ]
    }
   ],
   "source": [
    "import gym\n",
    "import matplotlib.pyplot as plt\n",
    "from scipy.misc import imresize\n",
    "\n",
    "env = gym.make('SpaceInvaders-v0')\n",
    "\n",
    "obs = env.reset()\n",
    "obs_rec = []\n",
    "action = 3\n",
    "\n",
    "# 0 動かない\n",
    "# 1 その場でショット\n",
    "# 2 右\n",
    "# 3 左\n",
    "# 4 右行きながらショット\n",
    "# 5 左行きながらショット\n",
    "\n",
    "# while True:\n",
    "#     env.render()\n",
    "#     obs,reward,done,info = env.step(action)\n",
    "#     obs_rec.append(obs)\n",
    "#     if done == True:\n",
    "#         break\n",
    "\n",
    "import chainer\n",
    "import chainer.functions as F\n",
    "import chainer.links as L\n",
    "import chainerrl\n",
    "import gym\n",
    "import numpy as np\n",
    "\n",
    "#env = gym.make('CartPole-v0')\n",
    "print('observation space:', env.observation_space)\n",
    "print('action space:', env.action_space)\n",
    "\n",
    "obs = env.reset()\n",
    "#env.render()\n",
    "print('initial observation:', obs)\n",
    "\n",
    "action = env.action_space.sample()\n",
    "obs, r, done, info = env.step(action)\n",
    "print('next observation:', obs)\n",
    "print('reward:', r)\n",
    "print('done:', done)\n",
    "print('info:', info)"
   ]
  },
  {
   "cell_type": "code",
   "execution_count": 4,
   "metadata": {},
   "outputs": [],
   "source": [
    "from collections import deque"
   ]
  },
  {
   "cell_type": "code",
   "execution_count": 5,
   "metadata": {},
   "outputs": [],
   "source": [
    "from chainer import optimizers"
   ]
  },
  {
   "cell_type": "raw",
   "metadata": {},
   "source": [
    "class QFunction(chainer.Chain):\n",
    "\n",
    "    def __init__(self, obs_size, n_actions, n_hidden_channels=10):\n",
    "        super().__init__()\n",
    "        with self.init_scope():\n",
    "            self.l0 = L.Linear(obs_size, n_hidden_channels)\n",
    "            self.l1 = L.Linear(n_hidden_channels, n_hidden_channels)\n",
    "            self.l2 = L.Linear(n_hidden_channels, n_hidden_channels)\n",
    "            self.l3 = L.Linear(n_hidden_channels, n_actions)\n",
    "\n",
    "    def __call__(self, x):\n",
    "        \"\"\"\n",
    "        Args:\n",
    "            x (ndarray or chainer.Variable): An observation\n",
    "            test (bool): a flag indicating whether it is in test mode\n",
    "        \"\"\"\n",
    "        h = F.leaky_relu(self.l0(x))\n",
    "        h = F.leaky_relu(self.l1(h))\n",
    "        h = F.leaky_relu(self.l2(h))\n",
    "        return self.l3(h)"
   ]
  },
  {
   "cell_type": "code",
   "execution_count": 221,
   "metadata": {},
   "outputs": [],
   "source": [
    "class QFunction(chainer.Chain):\n",
    "    def __init__(self,n_act):\n",
    "        super(QFunction,self).__init__()\n",
    "        with self.init_scope():\n",
    "            self.conv1 = L.Convolution2D(in_channels = 4, out_channels= 16, ksize = 6, stride = 4, pad = 1)\n",
    "            self.conv2 = L.Convolution2D(in_channels = 16, out_channels= 16, ksize = 3, stride = 3, pad = 1)\n",
    "            self.conv3 = L.Convolution2D(in_channels = 16, out_channels= 16, ksize = 3, stride = 3, pad = 1)\n",
    "            self.l1 = L.Linear(144,n_act)\n",
    "\n",
    "    def __call__(self, x):\n",
    "        #print(x.shape)\n",
    "        #x = np.stack([imresize(x[k],[55,40]) for k in range(len(x))]).astype(np.float32)\n",
    "        x = F.leaky_relu(self.conv1(x))\n",
    "        x = F.leaky_relu(self.conv2(x))\n",
    "        x = F.leaky_relu(self.conv3(x))\n",
    "        x = F.reshape(x,[x.shape[0],x.shape[1]*x.shape[2]*x.shape[3]])\n",
    "        x = self.l1(x)\n",
    "        return x"
   ]
  },
  {
   "cell_type": "code",
   "execution_count": 422,
   "metadata": {},
   "outputs": [],
   "source": [
    "from chainer import Variable"
   ]
  },
  {
   "cell_type": "code",
   "execution_count": 455,
   "metadata": {},
   "outputs": [],
   "source": [
    "\n",
    "class Qlearner():\n",
    "    def __init__(self,n_obs,n_act,n_exp):\n",
    "        self.eps = 0.5\n",
    "        self.eps_deg = 0.00001\n",
    "        self.n_act = n_act\n",
    "        self.act_cand = np.arange(self.n_act)\n",
    "        self.n_obs = n_obs\n",
    "        self.model = QFunction(n_act)\n",
    "        self.opt = optimizers.RMSpropGraves(lr=0.00025, alpha=0.95, momentum=0.95, eps=0.0001)\n",
    "        self.opt.setup(self.model)\n",
    "        self.opt.add_hook(optimizer.GradientClipping(0.01))\n",
    "        self.losses = []\n",
    "        self.memory = Memory(n_exp)\n",
    "        self.update_num = 0 \n",
    "        \n",
    "    \n",
    "    def step(self,obs,explore=True):\n",
    "        \n",
    "        #todo : random sampling shape dosent match when batch process\n",
    "        \n",
    "        #obs = self.preinput(obs)\n",
    "        q = self.model(obs)\n",
    "        if explore == True:\n",
    "            if np.random.rand()>self.eps:\n",
    "                act = F.argmax(q).data+0\n",
    "            else:\n",
    "                act = np.random.randint(self.n_act)\n",
    "        else:\n",
    "            act = F.argmax(q,axis=1).data+0\n",
    "        return q,act\n",
    "    \n",
    "    def preinput(self,obs):\n",
    "        return np.expand_dims(obs,axis=0).astype(np.float32)\n",
    "\n",
    "    def calc_loss(self,batch_size,learner_target):\n",
    "        acts,obss,targets = self.memory.sample(batch_size,learner_target)\n",
    "        q = self.step(obss,explore = False)[0]\n",
    "        loss = []\n",
    "        for k,a in enumerate(acts):\n",
    "            loss.append((q[k,a] - targets[k])**2)\n",
    "        return loss\n",
    "    \n",
    "    def update(self,batch_size,learner_target):\n",
    "        loss = self.calc_loss(batch_size,learner_target)\n",
    "        loss_mean = 0\n",
    "        for l in loss:\n",
    "            loss_mean += l\n",
    "        loss_mean/=batch_size \n",
    "        \n",
    "        self.losses.append(loss_mean.data)\n",
    "        \n",
    "        self.model.cleargrads()\n",
    "        loss_mean.backward()\n",
    "        self.opt.update()\n",
    "\n",
    "        self.update_num += 1\n",
    "        self.eps = 0.1 + 0.9 / (1.0+self.update_num*0.01)\n",
    "        \n",
    "        self.return_priority(loss)\n",
    "        \n",
    "    def copy(self,learner_target):\n",
    "        self.model.copyparams(learner_target.model)\n",
    "    def return_priority(self,loss):\n",
    "        loss_abs = [np.abs(l.data) for l in loss]\n",
    "        for ii,p in zip(self.memory.idx,loss_abs):\n",
    "            self.memory.buffer_priority[ii] = p"
   ]
  },
  {
   "cell_type": "code",
   "execution_count": 456,
   "metadata": {},
   "outputs": [],
   "source": [
    "class Memory():\n",
    "    def __init__(self,n_exp):\n",
    "        self.maxlen = n_exp\n",
    "        self.gamma = 0.99\n",
    "        self.buffer = deque(maxlen = self.maxlen)\n",
    "        self.buffer_priority = deque(maxlen = self.maxlen)\n",
    "        self.max_priority = 1\n",
    "        \n",
    "    def append(self,exp):\n",
    "        if len(self.buffer_priority)<10:\n",
    "            self.max_priority = 1\n",
    "        else:\n",
    "            self.max_priority = np.max(self.buffer_priority)\n",
    "        self.buffer.append(exp)\n",
    "        self.buffer_priority.append(self.max_priority)\n",
    "    def add(self,exps):\n",
    "        if len(self.buffer_priority)<10:\n",
    "            self.max_priority = 1\n",
    "        else:\n",
    "            self.max_priority = np.max(self.buffer_priority)\n",
    "        for k in range(len(exps)):\n",
    "            self.buffer.append(exps[k])\n",
    "            self.buffer_priority.append(self.max_priority)\n",
    "        \n",
    "    def sample(self,batch_size,learner_target):        \n",
    "        p = self.buffer_priority/np.sum(self.buffer_priority)\n",
    "        self.idx = np.random.choice(range(len(self.buffer)),size = batch_size, p = p)\n",
    "        exps = [self.buffer[ii] for ii in self.idx]\n",
    "        \n",
    "        targets = []\n",
    "        obss = []\n",
    "        acts = []\n",
    "        for act,obs,obs_next,reward,done in exps:\n",
    "            q_target,act_target = learner_target.step(obs_next)\n",
    "            if done == False:\n",
    "                target = reward + self.gamma * np.max(q_target.data) \n",
    "            elif done == True:\n",
    "                target = reward\n",
    "            acts.append(act)\n",
    "            targets.append(target)\n",
    "            obss.append(obs)\n",
    "        obss = np.vstack(obss)\n",
    "        \n",
    "        return acts,obss,targets\n",
    "            "
   ]
  },
  {
   "cell_type": "code",
   "execution_count": 457,
   "metadata": {},
   "outputs": [],
   "source": [
    "a,o,t = learner.memory.sample(10,learner_target)"
   ]
  },
  {
   "cell_type": "code",
   "execution_count": 458,
   "metadata": {},
   "outputs": [
    {
     "data": {
      "text/plain": [
       "[3, 0, 3, 3, 4, 4, 2, 2, 3, 0]"
      ]
     },
     "execution_count": 458,
     "metadata": {},
     "output_type": "execute_result"
    }
   ],
   "source": [
    "a"
   ]
  },
  {
   "cell_type": "code",
   "execution_count": 459,
   "metadata": {},
   "outputs": [
    {
     "data": {
      "text/plain": [
       "(10, 4, 84, 84)"
      ]
     },
     "execution_count": 459,
     "metadata": {},
     "output_type": "execute_result"
    }
   ],
   "source": [
    "o.shape"
   ]
  },
  {
   "cell_type": "code",
   "execution_count": null,
   "metadata": {},
   "outputs": [],
   "source": []
  },
  {
   "cell_type": "code",
   "execution_count": 460,
   "metadata": {},
   "outputs": [
    {
     "data": {
      "text/plain": [
       "[1.9054962158203126,\n",
       " 9.524170627593994,\n",
       " 6.6516361427307125,\n",
       " 8.564570274353027,\n",
       " 6.617781257629394,\n",
       " 6.797706499099731,\n",
       " 8.90426908493042,\n",
       " 2.4957804679870605,\n",
       " 2.688421354293823,\n",
       " 6.271490173339844]"
      ]
     },
     "execution_count": 460,
     "metadata": {},
     "output_type": "execute_result"
    }
   ],
   "source": [
    "t"
   ]
  },
  {
   "cell_type": "code",
   "execution_count": null,
   "metadata": {},
   "outputs": [],
   "source": []
  },
  {
   "cell_type": "code",
   "execution_count": 461,
   "metadata": {},
   "outputs": [],
   "source": [
    "def make_exp_multi(exps,n_multi_step):\n",
    "\n",
    "    qs = []\n",
    "    acts = []\n",
    "    obss = []\n",
    "    rewards = []\n",
    "    dones = []\n",
    "\n",
    "    for act,obs,reward,done in exps:\n",
    "        acts.append(act)\n",
    "        obss.append(obs)\n",
    "        rewards.append(reward)\n",
    "        dones.append(done)\n",
    "    exps_multi = []\n",
    "    for k in range(len(exps)):\n",
    "        cum_rewards = np.sum(rewards[k:k+n_multi_step])\n",
    "        if k < len(exps) - n_multi_step:\n",
    "            exps_multi.append([acts[k],obss[k],obss[k+n_multi_step],cum_rewards,dones[k]])\n",
    "        else:\n",
    "            exps_multi.append([acts[k],obss[k],obss[k],cum_rewards,dones[k]])\n",
    "    return exps_multi"
   ]
  },
  {
   "cell_type": "code",
   "execution_count": 462,
   "metadata": {},
   "outputs": [],
   "source": [
    "import cv2\n",
    "def obs_process(obs):\n",
    "    return np.mean(cv2.resize(obs,(84,84)),axis=2,keepdims=True).astype(np.float32)"
   ]
  },
  {
   "cell_type": "code",
   "execution_count": 463,
   "metadata": {},
   "outputs": [],
   "source": [
    "from chainer import optimizer"
   ]
  },
  {
   "cell_type": "code",
   "execution_count": 464,
   "metadata": {},
   "outputs": [],
   "source": [
    "def env_reset_multi(env):\n",
    "    obs = env.reset()\n",
    "    obs = obs_process(obs)\n",
    "    obss = [obs] * 4\n",
    "    obs_next = np.stack(obss).transpose(3,0,1,2)\n",
    "    return obs_next,env"
   ]
  },
  {
   "cell_type": "code",
   "execution_count": 465,
   "metadata": {},
   "outputs": [],
   "source": [
    "def env_step_multi(env,act):\n",
    "    obss = []\n",
    "    rewards = []\n",
    "    dones = True\n",
    "    infos = []\n",
    "    for _ in range(4):\n",
    "        obs_next_temp,reward,done,info = env.step(act)\n",
    "        obs_next_temp = obs_process(obs_next_temp)\n",
    "        obss.append(obs_next_temp)\n",
    "        rewards.append(reward)\n",
    "        dones = dones and done\n",
    "        infos.append(info)\n",
    "    obs_next = np.stack(obss).transpose(3,0,1,2)\n",
    "    reward = np.mean(rewards)\n",
    "    done = dones\n",
    "    return obs_next,reward,dones,infos,env"
   ]
  },
  {
   "cell_type": "code",
   "execution_count": null,
   "metadata": {},
   "outputs": [],
   "source": []
  },
  {
   "cell_type": "code",
   "execution_count": 466,
   "metadata": {},
   "outputs": [],
   "source": [
    "n_obs = env.observation_space.shape[0]\n",
    "n_act = env.action_space.n\n",
    "#q_func = QFunction(obs_size, n_actions)"
   ]
  },
  {
   "cell_type": "raw",
   "metadata": {},
   "source": [
    "n = 5\n",
    "env = toy(n)\n",
    "\n",
    "n_obs = n\n",
    "n_act = 2"
   ]
  },
  {
   "cell_type": "code",
   "execution_count": 467,
   "metadata": {},
   "outputs": [],
   "source": [
    "n_exp = 10000\n",
    "learner = Qlearner(n_obs,n_act,n_exp)\n",
    "learner_target = Qlearner(n_obs,n_act,n_exp)\n",
    "\n",
    "#memory = Memory(n_exp)"
   ]
  },
  {
   "cell_type": "code",
   "execution_count": 468,
   "metadata": {},
   "outputs": [],
   "source": [
    "n_multi_step = 1"
   ]
  },
  {
   "cell_type": "code",
   "execution_count": null,
   "metadata": {},
   "outputs": [],
   "source": []
  },
  {
   "cell_type": "code",
   "execution_count": 469,
   "metadata": {},
   "outputs": [
    {
     "name": "stdout",
     "output_type": "stream",
     "text": [
      "5.0\n",
      "10.0\n",
      "8.0\n",
      "ite : 2, loss : 35.1301383972168, t : 8.0\n",
      "19.0\n",
      "ite : 3, loss : 21.46765899658203, t : 19.0\n",
      "10.0\n",
      "ite : 4, loss : 8.152844429016113, t : 10.0\n",
      "8.0\n",
      "ite : 5, loss : 9.964481353759766, t : 8.0\n",
      "8.0\n",
      "ite : 6, loss : 8.675546646118164, t : 8.0\n",
      "14.0\n",
      "ite : 7, loss : 8.543587684631348, t : 14.0\n",
      "9.0\n"
     ]
    },
    {
     "ename": "KeyboardInterrupt",
     "evalue": "",
     "output_type": "error",
     "traceback": [
      "\u001b[0;31m---------------------------------------------------------------------------\u001b[0m",
      "\u001b[0;31mKeyboardInterrupt\u001b[0m                         Traceback (most recent call last)",
      "\u001b[0;32m<ipython-input-469-1b80d601bda6>\u001b[0m in \u001b[0;36m<module>\u001b[0;34m()\u001b[0m\n\u001b[1;32m     30\u001b[0m     \u001b[0;32mif\u001b[0m \u001b[0mlen\u001b[0m\u001b[0;34m(\u001b[0m\u001b[0mlearner\u001b[0m\u001b[0;34m.\u001b[0m\u001b[0mmemory\u001b[0m\u001b[0;34m.\u001b[0m\u001b[0mbuffer\u001b[0m\u001b[0;34m)\u001b[0m \u001b[0;34m>\u001b[0m \u001b[0;36m500\u001b[0m\u001b[0;34m:\u001b[0m\u001b[0;34m\u001b[0m\u001b[0m\n\u001b[1;32m     31\u001b[0m         \u001b[0;32mfor\u001b[0m \u001b[0mi\u001b[0m \u001b[0;32min\u001b[0m \u001b[0mrange\u001b[0m\u001b[0;34m(\u001b[0m\u001b[0;36m100\u001b[0m\u001b[0;34m)\u001b[0m\u001b[0;34m:\u001b[0m\u001b[0;34m\u001b[0m\u001b[0m\n\u001b[0;32m---> 32\u001b[0;31m             \u001b[0mlearner\u001b[0m\u001b[0;34m.\u001b[0m\u001b[0mupdate\u001b[0m\u001b[0;34m(\u001b[0m\u001b[0;36m32\u001b[0m\u001b[0;34m,\u001b[0m\u001b[0mlearner_target\u001b[0m\u001b[0;34m)\u001b[0m\u001b[0;34m\u001b[0m\u001b[0m\n\u001b[0m\u001b[1;32m     33\u001b[0m         \u001b[0mprint\u001b[0m\u001b[0;34m(\u001b[0m\u001b[0;34m'ite : {}, loss : {}, t : {}'\u001b[0m\u001b[0;34m.\u001b[0m\u001b[0mformat\u001b[0m\u001b[0;34m(\u001b[0m\u001b[0mk\u001b[0m\u001b[0;34m,\u001b[0m\u001b[0mlearner\u001b[0m\u001b[0;34m.\u001b[0m\u001b[0mlosses\u001b[0m\u001b[0;34m[\u001b[0m\u001b[0;34m-\u001b[0m\u001b[0;36m1\u001b[0m\u001b[0;34m]\u001b[0m\u001b[0;34m,\u001b[0m\u001b[0mnp\u001b[0m\u001b[0;34m.\u001b[0m\u001b[0mmean\u001b[0m\u001b[0;34m(\u001b[0m\u001b[0mR\u001b[0m\u001b[0;34m)\u001b[0m\u001b[0;34m)\u001b[0m\u001b[0;34m)\u001b[0m\u001b[0;34m\u001b[0m\u001b[0m\n",
      "\u001b[0;32m<ipython-input-455-594d39174e29>\u001b[0m in \u001b[0;36mupdate\u001b[0;34m(self, batch_size, learner_target)\u001b[0m\n\u001b[1;32m     52\u001b[0m \u001b[0;34m\u001b[0m\u001b[0m\n\u001b[1;32m     53\u001b[0m         \u001b[0mself\u001b[0m\u001b[0;34m.\u001b[0m\u001b[0mmodel\u001b[0m\u001b[0;34m.\u001b[0m\u001b[0mcleargrads\u001b[0m\u001b[0;34m(\u001b[0m\u001b[0;34m)\u001b[0m\u001b[0;34m\u001b[0m\u001b[0m\n\u001b[0;32m---> 54\u001b[0;31m         \u001b[0mloss_mean\u001b[0m\u001b[0;34m.\u001b[0m\u001b[0mbackward\u001b[0m\u001b[0;34m(\u001b[0m\u001b[0;34m)\u001b[0m\u001b[0;34m\u001b[0m\u001b[0m\n\u001b[0m\u001b[1;32m     55\u001b[0m         \u001b[0mself\u001b[0m\u001b[0;34m.\u001b[0m\u001b[0mopt\u001b[0m\u001b[0;34m.\u001b[0m\u001b[0mupdate\u001b[0m\u001b[0;34m(\u001b[0m\u001b[0;34m)\u001b[0m\u001b[0;34m\u001b[0m\u001b[0m\n\u001b[1;32m     56\u001b[0m \u001b[0;34m\u001b[0m\u001b[0m\n",
      "\u001b[0;32m~/.pyenv/versions/anaconda3-5.1.0/lib/python3.6/site-packages/chainer/variable.py\u001b[0m in \u001b[0;36mbackward\u001b[0;34m(self, retain_grad, enable_double_backprop)\u001b[0m\n\u001b[1;32m    888\u001b[0m         \"\"\"\n\u001b[1;32m    889\u001b[0m         \u001b[0;32mwith\u001b[0m \u001b[0mchainer\u001b[0m\u001b[0;34m.\u001b[0m\u001b[0musing_config\u001b[0m\u001b[0;34m(\u001b[0m\u001b[0;34m'enable_backprop'\u001b[0m\u001b[0;34m,\u001b[0m \u001b[0menable_double_backprop\u001b[0m\u001b[0;34m)\u001b[0m\u001b[0;34m:\u001b[0m\u001b[0;34m\u001b[0m\u001b[0m\n\u001b[0;32m--> 890\u001b[0;31m             \u001b[0mself\u001b[0m\u001b[0;34m.\u001b[0m\u001b[0m_backward_main\u001b[0m\u001b[0;34m(\u001b[0m\u001b[0mretain_grad\u001b[0m\u001b[0;34m)\u001b[0m\u001b[0;34m\u001b[0m\u001b[0m\n\u001b[0m\u001b[1;32m    891\u001b[0m \u001b[0;34m\u001b[0m\u001b[0m\n\u001b[1;32m    892\u001b[0m     \u001b[0;32mdef\u001b[0m \u001b[0m_backward_main\u001b[0m\u001b[0;34m(\u001b[0m\u001b[0mself\u001b[0m\u001b[0;34m,\u001b[0m \u001b[0mretain_grad\u001b[0m\u001b[0;34m)\u001b[0m\u001b[0;34m:\u001b[0m\u001b[0;34m\u001b[0m\u001b[0m\n",
      "\u001b[0;32m~/.pyenv/versions/anaconda3-5.1.0/lib/python3.6/site-packages/chainer/variable.py\u001b[0m in \u001b[0;36m_backward_main\u001b[0;34m(self, retain_grad)\u001b[0m\n\u001b[1;32m    933\u001b[0m \u001b[0;34m\u001b[0m\u001b[0m\n\u001b[1;32m    934\u001b[0m         \u001b[0;32mwhile\u001b[0m \u001b[0mcand_funcs\u001b[0m\u001b[0;34m:\u001b[0m\u001b[0;34m\u001b[0m\u001b[0m\n\u001b[0;32m--> 935\u001b[0;31m             \u001b[0m_\u001b[0m\u001b[0;34m,\u001b[0m \u001b[0m_\u001b[0m\u001b[0;34m,\u001b[0m \u001b[0mfunc\u001b[0m \u001b[0;34m=\u001b[0m \u001b[0mheapq\u001b[0m\u001b[0;34m.\u001b[0m\u001b[0mheappop\u001b[0m\u001b[0;34m(\u001b[0m\u001b[0mcand_funcs\u001b[0m\u001b[0;34m)\u001b[0m\u001b[0;34m\u001b[0m\u001b[0m\n\u001b[0m\u001b[1;32m    936\u001b[0m             \u001b[0minputs\u001b[0m \u001b[0;34m=\u001b[0m \u001b[0mfunc\u001b[0m\u001b[0;34m.\u001b[0m\u001b[0minputs\u001b[0m\u001b[0;34m\u001b[0m\u001b[0m\n\u001b[1;32m    937\u001b[0m             target_input_indexes = tuple([\n",
      "\u001b[0;31mKeyboardInterrupt\u001b[0m: "
     ]
    }
   ],
   "source": [
    "rr = []\n",
    "for k in range(1000):\n",
    "\n",
    "    obs,env = env_reset_multi(env)\n",
    "    exps = []\n",
    "    qs = []\n",
    "    acs = []\n",
    "    R = 0\n",
    "    for t in range(200):\n",
    "        q,act = learner.step(obs)\n",
    "        qs.append(q)\n",
    "        acs.append(act)\n",
    "        obs_next,reward,dones,infos,env = env_step_multi(env,act)\n",
    "        if done == True:\n",
    "            reward = -1\n",
    "        if reward > 0:\n",
    "            reward = 1\n",
    "        exp = [act,obs,reward,done]\n",
    "        exps.append(exp)\n",
    "        obs = obs_next\n",
    "        R += reward\n",
    "        if done == True:\n",
    "            break\n",
    "    print(R)\n",
    "    #aaaa\n",
    "    exps = make_exp_multi(exps,n_multi_step)\n",
    "    learner.memory.add(exps)\n",
    "    rr.append(R)\n",
    "    learner_target.copy(learner)\n",
    "    if len(learner.memory.buffer) > 500:\n",
    "        for i in range(100):\n",
    "            learner.update(32,learner_target)\n",
    "        print('ite : {}, loss : {}, t : {}'.format(k,learner.losses[-1],np.mean(R)))"
   ]
  },
  {
   "cell_type": "code",
   "execution_count": null,
   "metadata": {
    "scrolled": true
   },
   "outputs": [],
   "source": [
    "plt.plot(rr)"
   ]
  },
  {
   "cell_type": "code",
   "execution_count": null,
   "metadata": {},
   "outputs": [],
   "source": []
  },
  {
   "cell_type": "code",
   "execution_count": null,
   "metadata": {},
   "outputs": [],
   "source": []
  },
  {
   "cell_type": "code",
   "execution_count": null,
   "metadata": {},
   "outputs": [],
   "source": []
  },
  {
   "cell_type": "code",
   "execution_count": null,
   "metadata": {},
   "outputs": [],
   "source": []
  },
  {
   "cell_type": "code",
   "execution_count": 204,
   "metadata": {},
   "outputs": [],
   "source": [
    "class toy():\n",
    "    def __init__(self,n):\n",
    "        self.n = n\n",
    "        self.s = 0\n",
    "        self.n_obs = self.n\n",
    "        self.n_act = 2\n",
    "    def reset(self):\n",
    "        self.s = 0\n",
    "        state_vec = np.zeros(self.n_obs)\n",
    "        state_vec[0] = 1\n",
    "        return state_vec\n",
    "    def step(self,act):\n",
    "        if act == 0:\n",
    "            if self.s == self.n -1:\n",
    "                next_s = 0\n",
    "                reward = 100\n",
    "            else:\n",
    "                next_s = self.s + 1\n",
    "                reward = -1\n",
    "        elif act == 1:\n",
    "            next_s = 0\n",
    "            reward = 0\n",
    "        self.s = next_s\n",
    "        state_vec = np.zeros(self.n_obs)\n",
    "        state_vec[next_s] = 1\n",
    "        \n",
    "        obs = state_vec\n",
    "        done = False\n",
    "        info = {}\n",
    "        return obs,reward,done,info\n",
    "        \n",
    "        \n",
    "        \n",
    "        \n",
    "    "
   ]
  },
  {
   "cell_type": "code",
   "execution_count": null,
   "metadata": {},
   "outputs": [],
   "source": []
  },
  {
   "cell_type": "code",
   "execution_count": null,
   "metadata": {},
   "outputs": [],
   "source": []
  },
  {
   "cell_type": "code",
   "execution_count": null,
   "metadata": {},
   "outputs": [],
   "source": []
  },
  {
   "cell_type": "code",
   "execution_count": 352,
   "metadata": {},
   "outputs": [
    {
     "data": {
      "text/plain": [
       "[<matplotlib.lines.Line2D at 0x10ee9bf98>]"
      ]
     },
     "execution_count": 352,
     "metadata": {},
     "output_type": "execute_result"
    },
    {
     "data": {
      "image/png": "[encoded data removed]",
      "text/plain": [
       "<matplotlib.figure.Figure at 0x10ee1a1d0>"
      ]
     },
     "metadata": {},
     "output_type": "display_data"
    }
   ],
   "source": [
    "plt.plot(learner.memory.buffer_priority)"
   ]
  },
  {
   "cell_type": "code",
   "execution_count": null,
   "metadata": {},
   "outputs": [],
   "source": []
  },
  {
   "cell_type": "code",
   "execution_count": null,
   "metadata": {},
   "outputs": [],
   "source": []
  },
  {
   "cell_type": "code",
   "execution_count": 346,
   "metadata": {},
   "outputs": [],
   "source": [
    "x = np.arange(-10,10)\n",
    "qs = []\n",
    "acs = []\n",
    "for xx in x:\n",
    "    q,a = learner.step([xx,0,0,0],explore = False)\n",
    "    qs.append(q.data)\n",
    "    acs.append(a)"
   ]
  },
  {
   "cell_type": "code",
   "execution_count": 347,
   "metadata": {},
   "outputs": [],
   "source": [
    "qs = np.stack(qs)[:,0,:]"
   ]
  },
  {
   "cell_type": "code",
   "execution_count": 348,
   "metadata": {},
   "outputs": [
    {
     "data": {
      "text/plain": [
       "[<matplotlib.lines.Line2D at 0x10d87cdd8>,\n",
       " <matplotlib.lines.Line2D at 0x10d87cf98>]"
      ]
     },
     "execution_count": 348,
     "metadata": {},
     "output_type": "execute_result"
    },
    {
     "data": {
      "image/png": "[encoded data removed]",
      "text/plain": [
       "<matplotlib.figure.Figure at 0x10d77a5c0>"
      ]
     },
     "metadata": {},
     "output_type": "display_data"
    }
   ],
   "source": [
    "plt.plot(x,qs)"
   ]
  },
  {
   "cell_type": "code",
   "execution_count": 349,
   "metadata": {},
   "outputs": [
    {
     "data": {
      "text/plain": [
       "[<matplotlib.lines.Line2D at 0x10d918d30>]"
      ]
     },
     "execution_count": 349,
     "metadata": {},
     "output_type": "execute_result"
    },
    {
     "data": {
      "image/png": "[encoded data removed]",
      "text/plain": [
       "<matplotlib.figure.Figure at 0x10d7ea8d0>"
      ]
     },
     "metadata": {},
     "output_type": "display_data"
    }
   ],
   "source": [
    "plt.plot(x,acs)"
   ]
  },
  {
   "cell_type": "code",
   "execution_count": null,
   "metadata": {},
   "outputs": [],
   "source": []
  }
 ],
 "metadata": {
  "kernelspec": {
   "display_name": "Python 3",
   "language": "python",
   "name": "python3"
  },
  "language_info": {
   "codemirror_mode": {
    "name": "ipython",
    "version": 3
   },
   "file_extension": ".py",
   "mimetype": "text/x-python",
   "name": "python",
   "nbconvert_exporter": "python",
   "pygments_lexer": "ipython3",
   "version": "3.6.4"
  }
 },
 "nbformat": 4,
 "nbformat_minor": 2
}
